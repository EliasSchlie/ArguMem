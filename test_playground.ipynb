{
  "cells": [
    {
      "cell_type": "markdown",
      "metadata": {},
      "source": [
        "# ArguMem Testing Playground\n",
        "\n",
        "This notebook is for testing and experimenting with the ArguMem library.\n"
      ]
    },
    {
      "cell_type": "code",
      "execution_count": 1,
      "metadata": {},
      "outputs": [],
      "source": [
        "# Import the ArguMem library\n",
        "from ArguMem.argumem import ArguMem\n"
      ]
    },
    {
      "cell_type": "code",
      "execution_count": 3,
      "metadata": {},
      "outputs": [
        {
          "data": {
            "text/plain": [
              "True"
            ]
          },
          "execution_count": 3,
          "metadata": {},
          "output_type": "execute_result"
        }
      ],
      "source": [
        "from dotenv import load_dotenv\n",
        "load_dotenv()"
      ]
    },
    {
      "cell_type": "code",
      "execution_count": 4,
      "metadata": {},
      "outputs": [],
      "source": [
        "# Initialize ArguMem with a test database\n",
        "mem = ArguMem(db_path=\"test_argumem.db\")\n"
      ]
    },
    {
      "cell_type": "code",
      "execution_count": 5,
      "metadata": {},
      "outputs": [
        {
          "name": "stdout",
          "output_type": "stream",
          "text": [
            "Created source with ID: 1\n"
          ]
        }
      ],
      "source": [
        "# Test adding a memory\n",
        "test_content = \"\"\"\n",
        "Climate change is one of the most pressing issues of our time. \n",
        "According to the IPCC report, \"Human activities are estimated to have caused approximately 1.0°C of global warming above pre-industrial levels.\"\n",
        "The report also states that \"Global warming is likely to reach 1.5°C between 2030 and 2052 if it continues to increase at the current rate.\"\n",
        "We must take immediate action to reduce greenhouse gas emissions.\n",
        "\"\"\"\n",
        "\n",
        "source_id = mem.addMemory(\n",
        "    content=test_content,\n",
        "    context=\"Transcript from a conversation with Max Mustermann\",\n",
        "    title=\"2050-01-01 Conversation with Max Mustermann\"\n",
        ")\n",
        "\n",
        "print(f\"Created source with ID: {source_id}\")\n"
      ]
    },
    {
      "cell_type": "code",
      "execution_count": null,
      "metadata": {},
      "outputs": [],
      "source": [
        "# Check what was extracted and stored\n",
        "import sqlite3\n",
        "import pandas as pd\n",
        "\n",
        "# Connect to the test database\n",
        "conn = sqlite3.connect(\"test_argumem.db\")"
      ]
    },
    {
      "cell_type": "code",
      "execution_count": 2,
      "metadata": {},
      "outputs": [
        {
          "name": "stdout",
          "output_type": "stream",
          "text": [
            "Tables in database:\n",
            "                   name\n",
            "0               sources\n",
            "1          propositions\n",
            "2            quotations\n",
            "3             arguments\n",
            "4    argument_quotation\n",
            "5  argument_proposition\n",
            "\n"
          ]
        }
      ],
      "source": [
        "# Check what tables exist\n",
        "tables_query = \"SELECT name FROM sqlite_master WHERE type='table';\"\n",
        "tables = pd.read_sql_query(tables_query, conn)\n",
        "print(\"Tables in database:\")\n",
        "print(tables)\n",
        "print()"
      ]
    },
    {
      "cell_type": "code",
      "execution_count": 3,
      "metadata": {},
      "outputs": [
        {
          "name": "stdout",
          "output_type": "stream",
          "text": [
            "Sources table:\n",
            "   id                 timestamp  \\\n",
            "0   1  2025-08-25T20:52:20.177Z   \n",
            "\n",
            "                                            raw_text  \\\n",
            "0  \\nClimate change is one of the most pressing i...   \n",
            "\n",
            "                                             context  \\\n",
            "0  Transcript from a conversation with Max Muster...   \n",
            "\n",
            "                                         title  \n",
            "0  2050-01-01 Conversation with Max Mustermann  \n",
            "\n"
          ]
        }
      ],
      "source": [
        "# Inspect sources table\n",
        "print(\"Sources table:\")\n",
        "sources_df = pd.read_sql_query(\"SELECT * FROM sources\", conn)\n",
        "print(sources_df)\n",
        "print()"
      ]
    },
    {
      "cell_type": "code",
      "execution_count": 4,
      "metadata": {},
      "outputs": [
        {
          "name": "stdout",
          "output_type": "stream",
          "text": [
            "Quotations table:\n",
            "   id  source_id                                     quotation_text  \\\n",
            "0   1          1  Climate change is one of the most pressing iss...   \n",
            "1   2          1  Human activities are estimated to have caused ...   \n",
            "2   3          1  Global warming is likely to reach 1.5°C betwee...   \n",
            "3   4          1  We must take immediate action to reduce greenh...   \n",
            "\n",
            "                                           locator  \n",
            "0                            beginning, sentence 1  \n",
            "1  beginning, sentence 2 (quoted from IPCC report)  \n",
            "2     middle, sentence 3 (quoted from IPCC report)  \n",
            "3                                  end, sentence 4  \n"
          ]
        }
      ],
      "source": [
        "# Inspect quotations table\n",
        "print(\"Quotations table:\")\n",
        "quotations_df = pd.read_sql_query(\"SELECT * FROM quotations\", conn)\n",
        "print(quotations_df)"
      ]
    },
    {
      "cell_type": "code",
      "execution_count": null,
      "metadata": {},
      "outputs": [],
      "source": [
        "conn.close()"
      ]
    }
  ],
  "metadata": {
    "kernelspec": {
      "display_name": ".venv",
      "language": "python",
      "name": "python3"
    },
    "language_info": {
      "codemirror_mode": {
        "name": "ipython",
        "version": 3
      },
      "file_extension": ".py",
      "mimetype": "text/x-python",
      "name": "python",
      "nbconvert_exporter": "python",
      "pygments_lexer": "ipython3",
      "version": "3.13.5"
    }
  },
  "nbformat": 4,
  "nbformat_minor": 2
}
